{
 "cells": [
  {
   "cell_type": "markdown",
   "id": "1056ed7f",
   "metadata": {},
   "source": [
    "# ConversationBufferMemory Demo with Google Gemini\n",
    "\n",
    "This notebook demonstrates how to use LangChain's ConversationBufferMemory with Google's Gemini model to create a chatbot that remembers conversation history.\n",
    "\n",
    "## Features\n",
    "- Uses Google Gemini API (gemini-2.0-flash model)\n",
    "- Implements ConversationBufferMemory for history retention\n",
    "- Secure API key handling via environment variables\n",
    "\n",
    "## Requirements\n",
    "- google-generativeai library\n",
    "- langchain\n",
    "- python-dotenv\n",
    "- A valid Gemini API key in .env file"
   ]
  },
  {
   "cell_type": "code",
   "execution_count": 1,
   "id": "5e70bc1d",
   "metadata": {},
   "outputs": [],
   "source": [
    "# Install required packages\n",
    "!pip install langchain google-generativeai python-dotenv langchain-google-genai --quiet"
   ]
  },
  {
   "cell_type": "code",
   "execution_count": 2,
   "id": "6ee91c02",
   "metadata": {},
   "outputs": [
    {
     "name": "stderr",
     "output_type": "stream",
     "text": [
      "C:\\Users\\saravanan.1.p\\AppData\\Local\\Packages\\PythonSoftwareFoundation.Python.3.11_qbz5n2kfra8p0\\LocalCache\\local-packages\\Python311\\site-packages\\tqdm\\auto.py:21: TqdmWarning: IProgress not found. Please update jupyter and ipywidgets. See https://ipywidgets.readthedocs.io/en/stable/user_install.html\n",
      "  from .autonotebook import tqdm as notebook_tqdm\n"
     ]
    }
   ],
   "source": [
    "# Import required libraries\n",
    "import os\n",
    "from dotenv import load_dotenv\n",
    "from langchain_google_genai import ChatGoogleGenerativeAI\n",
    "from langchain.chains import ConversationChain\n",
    "from langchain.memory import ConversationBufferMemory\n",
    "\n",
    "# Load environment variables\n",
    "load_dotenv()\n",
    "os.environ[\"GOOGLE_API_KEY\"] = os.getenv(\"GEMINI_API_KEY\")"
   ]
  },
  {
   "cell_type": "code",
   "execution_count": 3,
   "id": "6d06da20",
   "metadata": {},
   "outputs": [
    {
     "name": "stderr",
     "output_type": "stream",
     "text": [
      "C:\\Users\\saravanan.1.p\\AppData\\Local\\Temp\\ipykernel_17500\\2086494214.py:3: LangChainDeprecationWarning: Please see the migration guide at: https://python.langchain.com/docs/versions/migrating_memory/\n",
      "  memory = ConversationBufferMemory()\n",
      "C:\\Users\\saravanan.1.p\\AppData\\Local\\Temp\\ipykernel_17500\\2086494214.py:4: LangChainDeprecationWarning: The class `ConversationChain` was deprecated in LangChain 0.2.7 and will be removed in 1.0. Use :class:`~langchain_core.runnables.history.RunnableWithMessageHistory` instead.\n",
      "  conversation = ConversationChain(llm=llm, memory=memory)\n"
     ]
    }
   ],
   "source": [
    "# Initialize the Gemini model with LangChain\n",
    "llm = ChatGoogleGenerativeAI(model=\"gemini-2.0-flash\", temperature=0)\n",
    "memory = ConversationBufferMemory()\n",
    "conversation = ConversationChain(llm=llm, memory=memory)"
   ]
  },
  {
   "cell_type": "code",
   "execution_count": 4,
   "id": "aabb5904",
   "metadata": {},
   "outputs": [
    {
     "name": "stdout",
     "output_type": "stream",
     "text": [
      " BufferMemory Demo with Gemini (type 'quit' to exit)\n",
      "\n"
     ]
    },
    {
     "name": "stderr",
     "output_type": "stream",
     "text": [
      "C:\\Users\\saravanan.1.p\\AppData\\Local\\Temp\\ipykernel_17500\\1625182839.py:7: LangChainDeprecationWarning: The method `Chain.run` was deprecated in langchain 0.1.0 and will be removed in 1.0. Use :meth:`~invoke` instead.\n",
      "  response = conversation.run(user_input)\n"
     ]
    },
    {
     "name": "stdout",
     "output_type": "stream",
     "text": [
      "Bot: Hello Saravanan! It's nice to meet you. My name is Gemini, and I'm a large language model. I'm trained by Google and I'm designed to be informative and comprehensive. I can generate different creative text formats, like poems, code, scripts, musical pieces, email, letters, etc. I will try my best to fulfill all your requirements. What can I do for you today?\n",
      "\n",
      "Bot: Alright Saravanan, let's talk about algebra!\n",
      "\n",
      "Algebra, at its core, is a branch of mathematics that uses symbols and letters to represent numbers and quantities in formulas and equations. Think of it as a way to generalize arithmetic. Instead of just working with specific numbers like 2, 5, or 10, algebra allows us to work with variables (usually represented by letters like x, y, or z) that can stand for any number.\n",
      "\n",
      "Here's a breakdown of some key concepts in algebra:\n",
      "\n",
      "*   **Variables:** These are symbols (usually letters) that represent unknown or changing quantities. For example, in the equation `x + 3 = 7`, 'x' is a variable.\n",
      "\n",
      "*   **Constants:** These are fixed values that don't change. In the equation `x + 3 = 7`, '3' and '7' are constants.\n",
      "\n",
      "*   **Expressions:** These are combinations of variables, constants, and mathematical operations (like addition, subtraction, multiplication, and division). For example, `2x + 5` is an expression.\n",
      "\n",
      "*   **Equations:** These are statements that show the equality between two expressions. They always contain an equals sign (=). For example, `2x + 5 = 11` is an equation.\n",
      "\n",
      "*   **Coefficients:** This is a number that multiplies a variable. In the expression `3x`, the coefficient is 3.\n",
      "\n",
      "*   **Terms:** These are the individual parts of an expression or equation that are separated by addition or subtraction. In the expression `2x + 5`, `2x` and `5` are terms.\n",
      "\n",
      "**Why is Algebra Important?**\n",
      "\n",
      "Algebra is fundamental to many other areas of mathematics and science. It's used in:\n",
      "\n",
      "*   **Solving problems:** Algebra provides the tools to solve a wide range of problems, from simple word problems to complex scientific calculations.\n",
      "*   **Modeling real-world situations:** Algebraic equations can be used to represent and analyze real-world relationships, such as the relationship between distance, speed, and time.\n",
      "*   **Developing formulas:** Algebra is used to create formulas that can be used to calculate various quantities, such as the area of a circle or the volume of a cube.\n",
      "*   **Computer Science:** Algebra is used extensively in computer programming, data analysis, and algorithm design.\n",
      "\n",
      "**Different Branches of Algebra:**\n",
      "\n",
      "Algebra isn't just one thing! There are different branches, including:\n",
      "\n",
      "*   **Elementary Algebra:** This is the basic algebra that you typically learn in middle school and high school. It covers topics like solving linear equations, graphing lines, and working with polynomials.\n",
      "*   **Abstract Algebra:** This is a more advanced branch of algebra that deals with abstract algebraic structures like groups, rings, and fields. It's often studied at the university level.\n",
      "*   **Linear Algebra:** This branch of algebra deals with vectors, matrices, and linear transformations. It's used in many areas of science and engineering, including computer graphics, machine learning, and data analysis.\n",
      "\n",
      "**Example:**\n",
      "\n",
      "Let's solve a simple algebraic equation:\n",
      "\n",
      "`x + 5 = 12`\n",
      "\n",
      "To solve for 'x', we need to isolate it on one side of the equation. We can do this by subtracting 5 from both sides:\n",
      "\n",
      "`x + 5 - 5 = 12 - 5`\n",
      "\n",
      "`x = 7`\n",
      "\n",
      "So, the solution to the equation is x = 7.\n",
      "\n",
      "I hope this gives you a good overview of algebra! Do you have any specific questions about algebra that I can help you with? Perhaps you'd like to know more about a particular concept, or see some more examples? Let me know!\n",
      "\n",
      "Bot: Alright Saravanan, let's talk about algebra!\n",
      "\n",
      "Algebra, at its core, is a branch of mathematics that uses symbols and letters to represent numbers and quantities in formulas and equations. Think of it as a way to generalize arithmetic. Instead of just working with specific numbers like 2, 5, or 10, algebra allows us to work with variables (usually represented by letters like x, y, or z) that can stand for any number.\n",
      "\n",
      "Here's a breakdown of some key concepts in algebra:\n",
      "\n",
      "*   **Variables:** These are symbols (usually letters) that represent unknown or changing quantities. For example, in the equation `x + 3 = 7`, 'x' is a variable.\n",
      "\n",
      "*   **Constants:** These are fixed values that don't change. In the equation `x + 3 = 7`, '3' and '7' are constants.\n",
      "\n",
      "*   **Expressions:** These are combinations of variables, constants, and mathematical operations (like addition, subtraction, multiplication, and division). For example, `2x + 5` is an expression.\n",
      "\n",
      "*   **Equations:** These are statements that show the equality between two expressions. They always contain an equals sign (=). For example, `2x + 5 = 11` is an equation.\n",
      "\n",
      "*   **Coefficients:** This is a number that multiplies a variable. In the expression `3x`, the coefficient is 3.\n",
      "\n",
      "*   **Terms:** These are the individual parts of an expression or equation that are separated by addition or subtraction. In the expression `2x + 5`, `2x` and `5` are terms.\n",
      "\n",
      "**Why is Algebra Important?**\n",
      "\n",
      "Algebra is fundamental to many other areas of mathematics and science. It's used in:\n",
      "\n",
      "*   **Solving problems:** Algebra provides the tools to solve a wide range of problems, from simple word problems to complex scientific calculations.\n",
      "*   **Modeling real-world situations:** Algebraic equations can be used to represent and analyze real-world relationships, such as the relationship between distance, speed, and time.\n",
      "*   **Developing formulas:** Algebra is used to create formulas that can be used to calculate various quantities, such as the area of a circle or the volume of a cube.\n",
      "*   **Computer Science:** Algebra is used extensively in computer programming, data analysis, and algorithm design.\n",
      "\n",
      "**Different Branches of Algebra:**\n",
      "\n",
      "Algebra isn't just one thing! There are different branches, including:\n",
      "\n",
      "*   **Elementary Algebra:** This is the basic algebra that you typically learn in middle school and high school. It covers topics like solving linear equations, graphing lines, and working with polynomials.\n",
      "*   **Abstract Algebra:** This is a more advanced branch of algebra that deals with abstract algebraic structures like groups, rings, and fields. It's often studied at the university level.\n",
      "*   **Linear Algebra:** This branch of algebra deals with vectors, matrices, and linear transformations. It's used in many areas of science and engineering, including computer graphics, machine learning, and data analysis.\n",
      "\n",
      "**Example:**\n",
      "\n",
      "Let's solve a simple algebraic equation:\n",
      "\n",
      "`x + 5 = 12`\n",
      "\n",
      "To solve for 'x', we need to isolate it on one side of the equation. We can do this by subtracting 5 from both sides:\n",
      "\n",
      "`x + 5 - 5 = 12 - 5`\n",
      "\n",
      "`x = 7`\n",
      "\n",
      "So, the solution to the equation is x = 7.\n",
      "\n",
      "I hope this gives you a good overview of algebra! Do you have any specific questions about algebra that I can help you with? Perhaps you'd like to know more about a particular concept, or see some more examples? Let me know!\n",
      "\n",
      "Bot: Your name is Saravanan. You told me that at the beginning of our conversation.\n",
      "\n",
      "Bot: Your name is Saravanan. You told me that at the beginning of our conversation.\n",
      "\n",
      "Bot: Goodbye Saravanan! It was a pleasure talking with you. If you have any more questions in the future, feel free to reach out. Have a great day!\n",
      "\n",
      "Bot: Goodbye Saravanan! It was a pleasure talking with you. If you have any more questions in the future, feel free to reach out. Have a great day!\n",
      "\n"
     ]
    }
   ],
   "source": [
    "# Run the conversation loop\n",
    "print(\" BufferMemory Demo with Gemini (type 'quit' to exit)\\n\")\n",
    "while True:\n",
    "    user_input = input(\"You: \")\n",
    "    if user_input.lower() == \"quit\":\n",
    "        break\n",
    "    response = conversation.run(user_input)\n",
    "    print(\"Bot:\", response)"
   ]
  },
  {
   "cell_type": "markdown",
   "id": "f0f81cde",
   "metadata": {},
   "source": [
    "##  Test Conversation Examples\n",
    "\n",
    "Try these inputs to test the memory functionality:\n",
    "```text\n",
    "You: My name is Alice.\n",
    "You: I am a software developer.\n",
    "You: What did I say my profession was?\n",
    "You: What is my name?\n",
    "You: quit\n",
    "```\n",
    "\n",
    "### How It Works\n",
    "\n",
    "- `ConversationBufferMemory` stores the complete conversation history\n",
    "- Each message is retained in memory\n",
    "- The full context is passed to Gemini on each interaction\n",
    "- The model can reference any previous part of the conversation\n",
    "\n",
    "> Note: The conversation is stored in memory only for the duration of the session. Once you restart the notebook, the memory is cleared."
   ]
  }
 ],
 "metadata": {
  "kernelspec": {
   "display_name": "Python 3",
   "language": "python",
   "name": "python3"
  },
  "language_info": {
   "codemirror_mode": {
    "name": "ipython",
    "version": 3
   },
   "file_extension": ".py",
   "mimetype": "text/x-python",
   "name": "python",
   "nbconvert_exporter": "python",
   "pygments_lexer": "ipython3",
   "version": "3.11.9"
  }
 },
 "nbformat": 4,
 "nbformat_minor": 5
}
