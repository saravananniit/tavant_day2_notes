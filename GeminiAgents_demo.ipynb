{
 "cells": [
  {
   "cell_type": "markdown",
   "id": "2ba963ad",
   "metadata": {},
   "source": [
    "# LangChain Agents with Google Gemini\n",
    "\n",
    "This notebook demonstrates how to create and use LangChain agents powered by Google's Gemini model. The agents can:\n",
    "- Perform web searches using DuckDuckGo\n",
    "- Execute basic calculator operations\n",
    "- Choose the appropriate tool based on the task\n",
    "\n",
    "## Requirements\n",
    "- langchain\n",
    "- langchain-google-genai\n",
    "- ddgs (DuckDuckGo Search)\n",
    "- python-dotenv\n",
    "- A valid Gemini API key in .env file"
   ]
  },
  {
   "cell_type": "code",
   "execution_count": 2,
   "id": "630c7e78",
   "metadata": {},
   "outputs": [],
   "source": [
    "# Install required packages\n",
    "!pip install -q langchain langchain-google-genai ddgs python-dotenv --quiet"
   ]
  },
  {
   "cell_type": "code",
   "execution_count": 3,
   "id": "8983a42d",
   "metadata": {},
   "outputs": [],
   "source": [
    "# Set up environment variables\n",
    "from dotenv import load_dotenv\n",
    "import os   \n",
    "load_dotenv()\n",
    "os.environ[\"GOOGLE_API_KEY\"] = os.getenv(\"GEMINI_API_KEY\")"
   ]
  },
  {
   "cell_type": "code",
   "execution_count": 4,
   "id": "0545c7de",
   "metadata": {},
   "outputs": [
    {
     "name": "stderr",
     "output_type": "stream",
     "text": [
      "C:\\Users\\saravanan.1.p\\AppData\\Local\\Packages\\PythonSoftwareFoundation.Python.3.11_qbz5n2kfra8p0\\LocalCache\\local-packages\\Python311\\site-packages\\tqdm\\auto.py:21: TqdmWarning: IProgress not found. Please update jupyter and ipywidgets. See https://ipywidgets.readthedocs.io/en/stable/user_install.html\n",
      "  from .autonotebook import tqdm as notebook_tqdm\n"
     ]
    }
   ],
   "source": [
    "from langchain_google_genai import ChatGoogleGenerativeAI\n",
    "from langchain.agents import initialize_agent, AgentType\n",
    "from langchain.tools import DuckDuckGoSearchRun, Tool"
   ]
  },
  {
   "cell_type": "code",
   "execution_count": 5,
   "id": "67a55602",
   "metadata": {},
   "outputs": [],
   "source": [
    "# Define calculator tool\n",
    "def calculator_tool(input: str) -> str:\n",
    "    try:\n",
    "        result = eval(input)\n",
    "        return f\"Result: {result}\"\n",
    "    except Exception as e:\n",
    "        return f\"Error: {str(e)}\""
   ]
  },
  {
   "cell_type": "code",
   "execution_count": 6,
   "id": "41446a65",
   "metadata": {},
   "outputs": [],
   "source": [
    "# Initialize tools\n",
    "search = DuckDuckGoSearchRun()\n",
    "\n",
    "tools = [\n",
    "    Tool.from_function(\n",
    "        name=\"Search\",\n",
    "        func=search.run,\n",
    "        description=\"Useful for answering questions about current events or factual data.\"\n",
    "    ),\n",
    "    Tool.from_function(\n",
    "        name=\"Calculator\",\n",
    "        func=calculator_tool,\n",
    "        description=\"Useful for performing basic math calculations. Input should be a valid Python expression.\"\n",
    "    )\n",
    "]"
   ]
  },
  {
   "cell_type": "code",
   "execution_count": 7,
   "id": "d5e14a02",
   "metadata": {},
   "outputs": [
    {
     "name": "stderr",
     "output_type": "stream",
     "text": [
      "C:\\Users\\saravanan.1.p\\AppData\\Local\\Temp\\ipykernel_28952\\1473618006.py:3: LangChainDeprecationWarning: LangChain agents will continue to be supported, but it is recommended for new use cases to be built with LangGraph. LangGraph offers a more flexible and full-featured framework for building agents, including support for tool-calling, persistence of state, and human-in-the-loop workflows. For details, refer to the `LangGraph documentation <https://langchain-ai.github.io/langgraph/>`_ as well as guides for `Migrating from AgentExecutor <https://python.langchain.com/docs/how_to/migrate_agent/>`_ and LangGraph's `Pre-built ReAct agent <https://langchain-ai.github.io/langgraph/how-tos/create-react-agent/>`_.\n",
      "  agent = initialize_agent(tools, llm, agent=AgentType.ZERO_SHOT_REACT_DESCRIPTION, verbose=True)\n"
     ]
    }
   ],
   "source": [
    "# Initialize the Gemini-powered agent\n",
    "llm = ChatGoogleGenerativeAI(model=\"gemini-2.0-flash\", temperature=0)\n",
    "agent = initialize_agent(tools, llm, agent=AgentType.ZERO_SHOT_REACT_DESCRIPTION, verbose=True)"
   ]
  },
  {
   "cell_type": "code",
   "execution_count": 9,
   "id": "e31e1da5",
   "metadata": {},
   "outputs": [
    {
     "name": "stdout",
     "output_type": "stream",
     "text": [
      "\n",
      "\n",
      "\u001b[1m> Entering new AgentExecutor chain...\u001b[0m\n",
      "\u001b[32;1m\u001b[1;3mI need to calculate the sum of 2 and 2.\n",
      "Action: Calculator\n",
      "Action Input: 2 + 2\u001b[0m\n",
      "Observation: \u001b[33;1m\u001b[1;3mResult: 4\u001b[0m\n",
      "Thought:\u001b[32;1m\u001b[1;3mI need to calculate the sum of 2 and 2.\n",
      "Action: Calculator\n",
      "Action Input: 2 + 2\u001b[0m\n",
      "Observation: \u001b[33;1m\u001b[1;3mResult: 4\u001b[0m\n",
      "Thought:\u001b[32;1m\u001b[1;3mI now know the final answer.\n",
      "Final Answer: 4\n",
      "\u001b[0m\n",
      "\n",
      "\u001b[1m> Finished chain.\u001b[0m\n",
      "\u001b[32;1m\u001b[1;3mI now know the final answer.\n",
      "Final Answer: 4\n",
      "\u001b[0m\n",
      "\n",
      "\u001b[1m> Finished chain.\u001b[0m\n"
     ]
    },
    {
     "data": {
      "text/plain": [
       "'4'"
      ]
     },
     "execution_count": 9,
     "metadata": {},
     "output_type": "execute_result"
    }
   ],
   "source": [
    "# Test the agent with a search query\n",
    "# agent.run(\"Search the GDP of India\")\n",
    "# You can also try calculator operations:\n",
    "agent.run(\"what is 2 + 2\")"
   ]
  },
  {
   "cell_type": "markdown",
   "id": "58821734",
   "metadata": {},
   "source": [
    "## How It Works\n",
    "\n",
    "1. The agent is initialized with two tools:\n",
    "   - A search tool using DuckDuckGo for web searches\n",
    "   - A calculator tool for mathematical operations\n",
    "\n",
    "2. When you ask a question, the agent:\n",
    "   - Analyzes the query\n",
    "   - Chooses the appropriate tool\n",
    "   - Executes the tool\n",
    "   - Returns the result\n",
    "\n",
    "3. The agent uses Google's Gemini model to:\n",
    "   - Understand the query\n",
    "   - Make decisions about tool usage\n",
    "   - Format the final response\n",
    "\n",
    "Try different queries to see how the agent chooses between tools!"
   ]
  }
 ],
 "metadata": {
  "kernelspec": {
   "display_name": "Python 3",
   "language": "python",
   "name": "python3"
  },
  "language_info": {
   "codemirror_mode": {
    "name": "ipython",
    "version": 3
   },
   "file_extension": ".py",
   "mimetype": "text/x-python",
   "name": "python",
   "nbconvert_exporter": "python",
   "pygments_lexer": "ipython3",
   "version": "3.11.9"
  }
 },
 "nbformat": 4,
 "nbformat_minor": 5
}
